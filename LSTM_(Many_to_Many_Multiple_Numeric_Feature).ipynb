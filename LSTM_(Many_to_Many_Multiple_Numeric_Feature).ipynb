{
  "nbformat": 4,
  "nbformat_minor": 0,
  "metadata": {
    "colab": {
      "name": "LSTM_(Many_to_Many_Multiple_Numeric_Feature).ipynb",
      "provenance": [],
      "collapsed_sections": []
    },
    "kernelspec": {
      "name": "python3",
      "display_name": "Python 3"
    },
    "accelerator": "GPU"
  },
  "cells": [
    {
      "cell_type": "code",
      "metadata": {
        "id": "tJvdq7pJ--1s",
        "colab_type": "code",
        "outputId": "bf48944d-5098-4b31-cfb2-ba6630f4f6ab",
        "colab": {
          "base_uri": "https://localhost:8080/",
          "height": 51
        }
      },
      "source": [
        "# LSTM (Many to Many Multiple Numeric Features)\n",
        "# =============================================\n",
        "\n",
        "# https://stackabuse.com/solving-sequence-problems-with-lstm-in-keras-part-2/\n",
        "\n",
        "%tensorflow_version 2.x\n",
        "\n",
        "import tensorflow as tf\n",
        "tf.__version__"
      ],
      "execution_count": 1,
      "outputs": [
        {
          "output_type": "stream",
          "text": [
            "TensorFlow 2.x selected.\n"
          ],
          "name": "stdout"
        },
        {
          "output_type": "execute_result",
          "data": {
            "text/plain": [
              "'2.0.0'"
            ]
          },
          "metadata": {
            "tags": []
          },
          "execution_count": 1
        }
      ]
    },
    {
      "cell_type": "code",
      "metadata": {
        "id": "XQsAqmcVtHqD",
        "colab_type": "code",
        "colab": {}
      },
      "source": [
        "# univariate lstm example\n",
        "import tensorflow as tf\n",
        "import numpy as np\n",
        "from numpy import array\n",
        "from tensorflow.keras.models import Sequential\n",
        "from tensorflow.keras.layers import LSTM, Bidirectional, Flatten, RepeatVector, TimeDistributed\n",
        "from tensorflow.keras.layers import Dense, Dropout\n",
        "from tensorflow.keras.callbacks import EarlyStopping\n",
        "from tensorflow.python.keras.callbacks import TensorBoard\n",
        "# from tensorflow.keras.regularizers import l2\n",
        "\n",
        "import matplotlib.pyplot as plt\n",
        "from time import time"
      ],
      "execution_count": 0,
      "outputs": []
    },
    {
      "cell_type": "code",
      "metadata": {
        "id": "V8taa71tsZsP",
        "colab_type": "code",
        "outputId": "588aaf8a-7407-4dee-ffd7-b85605708ecd",
        "colab": {
          "base_uri": "https://localhost:8080/",
          "height": 68
        }
      },
      "source": [
        "# define dataset\n",
        "X = list()\n",
        "Y = list()\n",
        "X1 = [x1 for x1 in range(5, 301, 5)]\n",
        "X2 = [x2 for x2 in range(20, 316, 5)]\n",
        "Y = [y for y in range(35, 331, 5)]\n",
        "\n",
        "X = np.column_stack((X1, X2))\n",
        "X[:3], Y[:3]"
      ],
      "execution_count": 19,
      "outputs": [
        {
          "output_type": "execute_result",
          "data": {
            "text/plain": [
              "(array([[ 5, 20],\n",
              "        [10, 25],\n",
              "        [15, 30]]), [35, 40, 45])"
            ]
          },
          "metadata": {
            "tags": []
          },
          "execution_count": 19
        }
      ]
    },
    {
      "cell_type": "code",
      "metadata": {
        "id": "Xmjzfq6LIo28",
        "colab_type": "code",
        "colab": {}
      },
      "source": [
        "X = np.array(X).reshape(20, 3, 2)\n",
        "Y = np.array(Y).reshape(20, 3, 1)\n",
        "\n",
        "X = X.astype('float32')\n",
        "y = Y.astype('float32')"
      ],
      "execution_count": 0,
      "outputs": []
    },
    {
      "cell_type": "code",
      "metadata": {
        "id": "ESyh5p7XH04O",
        "colab_type": "code",
        "outputId": "f32c7be0-2b9c-4afb-d251-aaf0b06a80e8",
        "colab": {
          "base_uri": "https://localhost:8080/",
          "height": 374
        }
      },
      "source": [
        "X[:3], y[:3]"
      ],
      "execution_count": 21,
      "outputs": [
        {
          "output_type": "execute_result",
          "data": {
            "text/plain": [
              "(array([[[ 5., 20.],\n",
              "         [10., 25.],\n",
              "         [15., 30.]],\n",
              " \n",
              "        [[20., 35.],\n",
              "         [25., 40.],\n",
              "         [30., 45.]],\n",
              " \n",
              "        [[35., 50.],\n",
              "         [40., 55.],\n",
              "         [45., 60.]]], dtype=float32), array([[[35.],\n",
              "         [40.],\n",
              "         [45.]],\n",
              " \n",
              "        [[50.],\n",
              "         [55.],\n",
              "         [60.]],\n",
              " \n",
              "        [[65.],\n",
              "         [70.],\n",
              "         [75.]]], dtype=float32))"
            ]
          },
          "metadata": {
            "tags": []
          },
          "execution_count": 21
        }
      ]
    },
    {
      "cell_type": "code",
      "metadata": {
        "id": "wAWc5EaCuTHH",
        "colab_type": "code",
        "colab": {}
      },
      "source": [
        "# X = tf.cast(X,tf.float32)\n",
        "# y = tf.cast(y,tf.float32)"
      ],
      "execution_count": 0,
      "outputs": []
    },
    {
      "cell_type": "code",
      "metadata": {
        "id": "kWJwJ5FDvkYB",
        "colab_type": "code",
        "colab": {}
      },
      "source": [
        "# %load_ext tensorboard\n",
        "# tensorboard = TensorBoard(log_dir=\"logs/{}\".format(time()), histogram_freq=1)\n",
        "# %tensorboard --logdir logs"
      ],
      "execution_count": 0,
      "outputs": []
    },
    {
      "cell_type": "code",
      "metadata": {
        "id": "7gYMsBtZ1Vsm",
        "colab_type": "code",
        "colab": {}
      },
      "source": [
        "# es = EarlyStopping(monitor='val_loss', min_delta=0.1, patience=5, verbose=1, mode='max')"
      ],
      "execution_count": 0,
      "outputs": []
    },
    {
      "cell_type": "code",
      "metadata": {
        "id": "skCCqFNI_Lci",
        "colab_type": "code",
        "outputId": "8d18a4ba-8935-402d-d3b9-0f853b048098",
        "colab": {
          "base_uri": "https://localhost:8080/",
          "height": 289
        }
      },
      "source": [
        "# define model\n",
        "\n",
        "model = Sequential()\n",
        "model.add(Bidirectional(LSTM(100, activation='relu', input_shape=(3, 2), return_sequences=False)))\n",
        "model.add(RepeatVector(3))\n",
        "model.add(Bidirectional(LSTM(100, activation='relu', return_sequences=True)))\n",
        "model.add(TimeDistributed(Dense(1)))\n",
        "model.compile(optimizer='adam', loss='mse', metrics=['mse'])\n",
        "# history = model.fit(X, y, epochs=200, validation_split=0.2, batch_size=3, verbose=0)\n",
        "history = model.fit(X, y, epochs=1000, validation_split=0.2, verbose=0)\n",
        "\n",
        "model.summary()"
      ],
      "execution_count": 25,
      "outputs": [
        {
          "output_type": "stream",
          "text": [
            "Model: \"sequential_1\"\n",
            "_________________________________________________________________\n",
            "Layer (type)                 Output Shape              Param #   \n",
            "=================================================================\n",
            "bidirectional_2 (Bidirection multiple                  82400     \n",
            "_________________________________________________________________\n",
            "repeat_vector_1 (RepeatVecto multiple                  0         \n",
            "_________________________________________________________________\n",
            "bidirectional_3 (Bidirection multiple                  240800    \n",
            "_________________________________________________________________\n",
            "time_distributed_1 (TimeDist multiple                  201       \n",
            "=================================================================\n",
            "Total params: 323,401\n",
            "Trainable params: 323,401\n",
            "Non-trainable params: 0\n",
            "_________________________________________________________________\n"
          ],
          "name": "stdout"
        }
      ]
    },
    {
      "cell_type": "code",
      "metadata": {
        "id": "3_W0z8cjCjvc",
        "colab_type": "code",
        "colab": {}
      },
      "source": [
        "# fit model\n",
        "# model.fit(X, y, epochs=500, validation_split=0.2, verbose=1, callbacks=[tensorboard])\n",
        "# history = model.fit(X, y, epochs=500, validation_split=0.2, verbose=0, callbacks=[])"
      ],
      "execution_count": 0,
      "outputs": []
    },
    {
      "cell_type": "code",
      "metadata": {
        "id": "OSJmm46VyRAO",
        "colab_type": "code",
        "outputId": "44531a2e-cd0e-43e2-91da-a3e7be48769a",
        "colab": {
          "base_uri": "https://localhost:8080/",
          "height": 590
        }
      },
      "source": [
        "# list all data in history\n",
        "print(history.history.keys())\n",
        "\n",
        "# summarize history for accuracy\n",
        "plt.plot(history.history['mse'])\n",
        "plt.plot(history.history['val_mse'])\n",
        "plt.title('model accuracy')\n",
        "plt.ylabel('mse')\n",
        "plt.xlabel('epoch')\n",
        "plt.legend(['train', 'test'], loc='upper left')\n",
        "plt.show()\n",
        "\n",
        "# summarize history for loss\n",
        "plt.plot(history.history['loss'])\n",
        "plt.plot(history.history['val_loss'])\n",
        "plt.title('model loss')\n",
        "plt.ylabel('loss')\n",
        "plt.xlabel('epoch')\n",
        "plt.legend(['train', 'test'], loc='upper left')\n",
        "plt.show()"
      ],
      "execution_count": 27,
      "outputs": [
        {
          "output_type": "stream",
          "text": [
            "dict_keys(['loss', 'mse', 'val_loss', 'val_mse'])\n"
          ],
          "name": "stdout"
        },
        {
          "output_type": "display_data",
          "data": {
            "image/png": "[encoded data removed]",
            "text/plain": [
              "<Figure size 432x288 with 1 Axes>"
            ]
          },
          "metadata": {
            "tags": []
          }
        },
        {
          "output_type": "display_data",
          "data": {
            "image/png": "[encoded data removed]",
            "text/plain": [
              "<Figure size 432x288 with 1 Axes>"
            ]
          },
          "metadata": {
            "tags": []
          }
        }
      ]
    },
    {
      "cell_type": "code",
      "metadata": {
        "id": "xbVJUZj5_PMr",
        "colab_type": "code",
        "outputId": "29289fbe-540e-4402-f9b7-10804200ea69",
        "colab": {
          "base_uri": "https://localhost:8080/",
          "height": 187
        }
      },
      "source": [
        "# demonstrate prediction\n",
        "\n",
        "X1 = [300, 305, 310]\n",
        "X2 = [315, 320, 325]\n",
        "\n",
        "test_input = np.column_stack((X1, X2))\n",
        "\n",
        "test_input = test_input.reshape((1, 3, 2))\n",
        "print(test_input)\n",
        "\n",
        "test_input = test_input.astype('float32')\n",
        "print(test_input)\n",
        "\n",
        "print(\"expected : [330, 335, 340]\")\n",
        "\n",
        "yhat = model.predict(test_input, verbose=0)\n",
        "print(\"yhat : \", yhat)"
      ],
      "execution_count": 28,
      "outputs": [
        {
          "output_type": "stream",
          "text": [
            "[[[300 315]\n",
            "  [305 320]\n",
            "  [310 325]]]\n",
            "[[[300. 315.]\n",
            "  [305. 320.]\n",
            "  [310. 325.]]]\n",
            "expected : [330, 335, 340]\n",
            "yhat :  [[[331.02054]\n",
            "  [336.37103]\n",
            "  [341.31903]]]\n"
          ],
          "name": "stdout"
        }
      ]
    },
    {
      "cell_type": "code",
      "metadata": {
        "id": "NeCn9IIe_Csw",
        "colab_type": "code",
        "colab": {}
      },
      "source": [
        ""
      ],
      "execution_count": 0,
      "outputs": []
    }
  ]
}