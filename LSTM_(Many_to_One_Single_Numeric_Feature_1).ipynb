{
  "nbformat": 4,
  "nbformat_minor": 0,
  "metadata": {
    "colab": {
      "name": "LSTM (Many to One Single Numeric Feature 1).ipynb",
      "provenance": [],
      "collapsed_sections": []
    },
    "kernelspec": {
      "name": "python3",
      "display_name": "Python 3"
    },
    "accelerator": "GPU"
  },
  "cells": [
    {
      "cell_type": "code",
      "metadata": {
        "id": "tJvdq7pJ--1s",
        "colab_type": "code",
        "outputId": "15fb4d24-259c-4c3a-90ef-d8712ff4a204",
        "colab": {
          "base_uri": "https://localhost:8080/",
          "height": 51
        }
      },
      "source": [
        "# LSTM (Many to One Single Numeric Feature)\n",
        "# =========================================\n",
        "\n",
        "%tensorflow_version 2.x\n",
        "\n",
        "import tensorflow as tf\n",
        "tf.__version__"
      ],
      "execution_count": 1,
      "outputs": [
        {
          "output_type": "stream",
          "text": [
            "TensorFlow 2.x selected.\n"
          ],
          "name": "stdout"
        },
        {
          "output_type": "execute_result",
          "data": {
            "text/plain": [
              "'2.0.0'"
            ]
          },
          "metadata": {
            "tags": []
          },
          "execution_count": 1
        }
      ]
    },
    {
      "cell_type": "code",
      "metadata": {
        "id": "XQsAqmcVtHqD",
        "colab_type": "code",
        "colab": {}
      },
      "source": [
        "# univariate lstm example\n",
        "from numpy import array\n",
        "from tensorflow.keras.models import Sequential\n",
        "from tensorflow.keras.layers import LSTM, Bidirectional, Flatten\n",
        "from tensorflow.keras.layers import Dense, Dropout\n",
        "from tensorflow.keras.callbacks import EarlyStopping\n",
        "from tensorflow.python.keras.callbacks import TensorBoard\n",
        "# from tensorflow.keras.regularizers import l2\n",
        "\n",
        "import matplotlib.pyplot as plt\n",
        "from time import time"
      ],
      "execution_count": 0,
      "outputs": []
    },
    {
      "cell_type": "code",
      "metadata": {
        "id": "V8taa71tsZsP",
        "colab_type": "code",
        "colab": {}
      },
      "source": [
        "# define dataset\n",
        "X = array([[10, 20, 30], [20, 30, 40], [30, 40, 50], [40, 50, 60],  [50, 60, 70],  [60, 70, 80],  [70, 80, 90]])\n",
        "y = array([40, 50, 60, 70, 80, 90, 100])"
      ],
      "execution_count": 0,
      "outputs": []
    },
    {
      "cell_type": "code",
      "metadata": {
        "id": "r7iSmJv8u_vI",
        "colab_type": "code",
        "outputId": "75096c84-6d17-4a16-9334-9ff3235697e7",
        "colab": {
          "base_uri": "https://localhost:8080/",
          "height": 68
        }
      },
      "source": [
        "X[:3] , X.dtype, y[:3], y.dtype"
      ],
      "execution_count": 4,
      "outputs": [
        {
          "output_type": "execute_result",
          "data": {
            "text/plain": [
              "(array([[10, 20, 30],\n",
              "        [20, 30, 40],\n",
              "        [30, 40, 50]]), dtype('int64'), array([40, 50, 60]), dtype('int64'))"
            ]
          },
          "metadata": {
            "tags": []
          },
          "execution_count": 4
        }
      ]
    },
    {
      "cell_type": "code",
      "metadata": {
        "id": "T0PZ60Kr_JtG",
        "colab_type": "code",
        "outputId": "d60b546b-e425-4314-acf6-01ec5c55e0f4",
        "colab": {
          "base_uri": "https://localhost:8080/",
          "height": 51
        }
      },
      "source": [
        "\n",
        "print(\"X.shape : {}\".format(X.shape))\n",
        "\n",
        "# reshape from [samples, timesteps] into [samples, timesteps, features]\n",
        "X = X.reshape((X.shape[0], X.shape[1], 1))\n",
        "\n",
        "print(\"X.shape2 : {}\".format(X.shape))\n"
      ],
      "execution_count": 5,
      "outputs": [
        {
          "output_type": "stream",
          "text": [
            "X.shape : (7, 3)\n",
            "X.shape2 : (7, 3, 1)\n"
          ],
          "name": "stdout"
        }
      ]
    },
    {
      "cell_type": "code",
      "metadata": {
        "id": "aMjevi0_gKar",
        "colab_type": "code",
        "outputId": "147b8b10-bf7d-43c6-c15f-5e390a540dff",
        "colab": {
          "base_uri": "https://localhost:8080/",
          "height": 204
        }
      },
      "source": [
        "X[:3] , X.dtype"
      ],
      "execution_count": 6,
      "outputs": [
        {
          "output_type": "execute_result",
          "data": {
            "text/plain": [
              "(array([[[10],\n",
              "         [20],\n",
              "         [30]],\n",
              " \n",
              "        [[20],\n",
              "         [30],\n",
              "         [40]],\n",
              " \n",
              "        [[30],\n",
              "         [40],\n",
              "         [50]]]), dtype('int64'))"
            ]
          },
          "metadata": {
            "tags": []
          },
          "execution_count": 6
        }
      ]
    },
    {
      "cell_type": "code",
      "metadata": {
        "id": "wAWc5EaCuTHH",
        "colab_type": "code",
        "colab": {}
      },
      "source": [
        "X = tf.cast(X,tf.float32)\n",
        "y = tf.cast(y,tf.float32)"
      ],
      "execution_count": 0,
      "outputs": []
    },
    {
      "cell_type": "code",
      "metadata": {
        "id": "KPcBxlacsmx2",
        "colab_type": "code",
        "outputId": "ba008f28-b767-4b85-9f6b-2b90d947694e",
        "colab": {
          "base_uri": "https://localhost:8080/",
          "height": 238
        }
      },
      "source": [
        "X[:3] , y[:3]"
      ],
      "execution_count": 8,
      "outputs": [
        {
          "output_type": "execute_result",
          "data": {
            "text/plain": [
              "(<tf.Tensor: id=7, shape=(3, 3, 1), dtype=float32, numpy=\n",
              " array([[[10.],\n",
              "         [20.],\n",
              "         [30.]],\n",
              " \n",
              "        [[20.],\n",
              "         [30.],\n",
              "         [40.]],\n",
              " \n",
              "        [[30.],\n",
              "         [40.],\n",
              "         [50.]]], dtype=float32)>,\n",
              " <tf.Tensor: id=11, shape=(3,), dtype=float32, numpy=array([40., 50., 60.], dtype=float32)>)"
            ]
          },
          "metadata": {
            "tags": []
          },
          "execution_count": 8
        }
      ]
    },
    {
      "cell_type": "code",
      "metadata": {
        "id": "kWJwJ5FDvkYB",
        "colab_type": "code",
        "colab": {}
      },
      "source": [
        "# %load_ext tensorboard\n",
        "# tensorboard = TensorBoard(log_dir=\"logs/{}\".format(time()), histogram_freq=1)\n",
        "# %tensorboard --logdir logs"
      ],
      "execution_count": 0,
      "outputs": []
    },
    {
      "cell_type": "code",
      "metadata": {
        "id": "7gYMsBtZ1Vsm",
        "colab_type": "code",
        "colab": {}
      },
      "source": [
        "# es = EarlyStopping(monitor='val_loss', min_delta=0.1, patience=5, verbose=1, mode='max')"
      ],
      "execution_count": 0,
      "outputs": []
    },
    {
      "cell_type": "code",
      "metadata": {
        "id": "skCCqFNI_Lci",
        "colab_type": "code",
        "outputId": "43f34563-72cc-4da0-cf09-3e9bcd3aa9e6",
        "colab": {
          "base_uri": "https://localhost:8080/",
          "height": 289
        }
      },
      "source": [
        "# define model\n",
        "\n",
        "model = Sequential()\n",
        "model.add(Bidirectional(LSTM(1000, activation='relu', input_shape=(3, 1), return_sequences=False)))\n",
        "model.add(Flatten())\n",
        "model.add(Dense(100, activation='relu'))\n",
        "model.add(Dense(1))\n",
        "model.compile(optimizer='adam', loss='mse', metrics=['mse'])\n",
        "# history = model.fit(X, y, epochs=200, validation_split=0.2, batch_size=8, verbose=0)\n",
        "# history = model.fit(X, y, epochs=200, validation_split=0.2, verbose=0)\n",
        "history = model.fit(X, y, epochs=200, validation_split=0.1, batch_size=3, verbose=0)\n",
        "\n",
        "model.summary()\n",
        "\n"
      ],
      "execution_count": 11,
      "outputs": [
        {
          "output_type": "stream",
          "text": [
            "Model: \"sequential\"\n",
            "_________________________________________________________________\n",
            "Layer (type)                 Output Shape              Param #   \n",
            "=================================================================\n",
            "bidirectional (Bidirectional multiple                  8016000   \n",
            "_________________________________________________________________\n",
            "flatten (Flatten)            multiple                  0         \n",
            "_________________________________________________________________\n",
            "dense (Dense)                multiple                  200100    \n",
            "_________________________________________________________________\n",
            "dense_1 (Dense)              multiple                  101       \n",
            "=================================================================\n",
            "Total params: 8,216,201\n",
            "Trainable params: 8,216,201\n",
            "Non-trainable params: 0\n",
            "_________________________________________________________________\n"
          ],
          "name": "stdout"
        }
      ]
    },
    {
      "cell_type": "code",
      "metadata": {
        "id": "3_W0z8cjCjvc",
        "colab_type": "code",
        "colab": {}
      },
      "source": [
        "# fit model\n",
        "# model.fit(X, y, epochs=500, validation_split=0.2, verbose=1, callbacks=[tensorboard])\n",
        "# history = model.fit(X, y, epochs=500, validation_split=0.2, verbose=0, callbacks=[])"
      ],
      "execution_count": 0,
      "outputs": []
    },
    {
      "cell_type": "code",
      "metadata": {
        "id": "OSJmm46VyRAO",
        "colab_type": "code",
        "outputId": "6758106b-ad24-4a50-f4bf-297e4b456a75",
        "colab": {
          "base_uri": "https://localhost:8080/",
          "height": 590
        }
      },
      "source": [
        "# list all data in history\n",
        "print(history.history.keys())\n",
        "\n",
        "# summarize history for accuracy\n",
        "plt.plot(history.history['mse'])\n",
        "plt.plot(history.history['val_mse'])\n",
        "plt.title('model accuracy')\n",
        "plt.ylabel('mse')\n",
        "plt.xlabel('epoch')\n",
        "plt.legend(['train', 'test'], loc='upper left')\n",
        "plt.show()\n",
        "\n",
        "# summarize history for loss\n",
        "plt.plot(history.history['loss'])\n",
        "plt.plot(history.history['val_loss'])\n",
        "plt.title('model loss')\n",
        "plt.ylabel('loss')\n",
        "plt.xlabel('epoch')\n",
        "plt.legend(['train', 'test'], loc='upper left')\n",
        "plt.show()"
      ],
      "execution_count": 13,
      "outputs": [
        {
          "output_type": "stream",
          "text": [
            "dict_keys(['loss', 'mse', 'val_loss', 'val_mse'])\n"
          ],
          "name": "stdout"
        },
        {
          "output_type": "display_data",
          "data": {
            "image/png": "[encoded data removed]",
            "text/plain": [
              "<Figure size 432x288 with 1 Axes>"
            ]
          },
          "metadata": {
            "tags": []
          }
        },
        {
          "output_type": "display_data",
          "data": {
            "image/png": "[encoded data removed]",
            "text/plain": [
              "<Figure size 432x288 with 1 Axes>"
            ]
          },
          "metadata": {
            "tags": []
          }
        }
      ]
    },
    {
      "cell_type": "code",
      "metadata": {
        "id": "xbVJUZj5_PMr",
        "colab_type": "code",
        "outputId": "83e16a75-c331-4799-80cd-51c2180f0a03",
        "colab": {
          "base_uri": "https://localhost:8080/",
          "height": 119
        }
      },
      "source": [
        "# demonstrate prediction\n",
        "x_input = array([80, 90, 100])\n",
        "print(\"x_input.shape {}\".format(x_input.shape))\n",
        "\n",
        "x_input = x_input.reshape((1, 3, 1))\n",
        "print(\"x_input.shape2 {}\".format(x_input.shape))\n",
        "\n",
        "x_input = tf.cast(x_input,tf.float32)\n",
        "print(\"x_input: {}\".format(x_input))\n",
        "\n",
        "yhat = model.predict(x_input, verbose=0)\n",
        "print(\"yhat : \", yhat)"
      ],
      "execution_count": 14,
      "outputs": [
        {
          "output_type": "stream",
          "text": [
            "x_input.shape (3,)\n",
            "x_input.shape2 (1, 3, 1)\n",
            "x_input: [[[ 80.]\n",
            "  [ 90.]\n",
            "  [100.]]]\n",
            "yhat :  [[110.66846]]\n"
          ],
          "name": "stdout"
        }
      ]
    },
    {
      "cell_type": "code",
      "metadata": {
        "id": "w4oc1Bz0h7Ky",
        "colab_type": "code",
        "colab": {}
      },
      "source": [
        ""
      ],
      "execution_count": 0,
      "outputs": []
    }
  ]
}