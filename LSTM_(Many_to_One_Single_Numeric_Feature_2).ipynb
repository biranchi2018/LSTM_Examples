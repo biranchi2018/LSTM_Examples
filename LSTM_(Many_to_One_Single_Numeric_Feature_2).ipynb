{
  "nbformat": 4,
  "nbformat_minor": 0,
  "metadata": {
    "colab": {
      "name": "LSTM_(Many_to_One_Single_Numeric_Feature_2).ipynb",
      "provenance": [],
      "collapsed_sections": []
    },
    "kernelspec": {
      "name": "python3",
      "display_name": "Python 3"
    },
    "accelerator": "GPU"
  },
  "cells": [
    {
      "cell_type": "code",
      "metadata": {
        "id": "tJvdq7pJ--1s",
        "colab_type": "code",
        "outputId": "499a72d9-84e0-4b58-9e69-edc14a197f4e",
        "colab": {
          "base_uri": "https://localhost:8080/",
          "height": 51
        }
      },
      "source": [
        "# LSTM (Many to One Single Numeric Feature)\n",
        "# =========================================\n",
        "\n",
        "# https://stackabuse.com/solving-sequence-problems-with-lstm-in-keras/\n",
        "\n",
        "%tensorflow_version 2.x\n",
        "\n",
        "import tensorflow as tf\n",
        "tf.__version__"
      ],
      "execution_count": 1,
      "outputs": [
        {
          "output_type": "stream",
          "text": [
            "TensorFlow 2.x selected.\n"
          ],
          "name": "stdout"
        },
        {
          "output_type": "execute_result",
          "data": {
            "text/plain": [
              "'2.0.0'"
            ]
          },
          "metadata": {
            "tags": []
          },
          "execution_count": 1
        }
      ]
    },
    {
      "cell_type": "code",
      "metadata": {
        "id": "XQsAqmcVtHqD",
        "colab_type": "code",
        "colab": {}
      },
      "source": [
        "# univariate lstm example\n",
        "import numpy as np\n",
        "from numpy import array\n",
        "from tensorflow.keras.models import Sequential\n",
        "from tensorflow.keras.layers import LSTM, Bidirectional, Flatten\n",
        "from tensorflow.keras.layers import Dense, Dropout\n",
        "from tensorflow.keras.callbacks import EarlyStopping\n",
        "from tensorflow.python.keras.callbacks import TensorBoard\n",
        "# from tensorflow.keras.regularizers import l2\n",
        "\n",
        "import matplotlib.pyplot as plt\n",
        "from time import time"
      ],
      "execution_count": 0,
      "outputs": []
    },
    {
      "cell_type": "code",
      "metadata": {
        "id": "V8taa71tsZsP",
        "colab_type": "code",
        "colab": {
          "base_uri": "https://localhost:8080/",
          "height": 1000
        },
        "outputId": "93723c09-d6a3-4fb8-900b-dd34fe56a31f"
      },
      "source": [
        "# define dataset\n",
        "X = np.array([x+1 for x in range(45)])\n",
        "print(X)\n",
        "\n",
        "X = X.reshape(15,3,1)\n",
        "print(X)"
      ],
      "execution_count": 22,
      "outputs": [
        {
          "output_type": "stream",
          "text": [
            "[ 1  2  3  4  5  6  7  8  9 10 11 12 13 14 15 16 17 18 19 20 21 22 23 24\n",
            " 25 26 27 28 29 30 31 32 33 34 35 36 37 38 39 40 41 42 43 44 45]\n",
            "[[[ 1]\n",
            "  [ 2]\n",
            "  [ 3]]\n",
            "\n",
            " [[ 4]\n",
            "  [ 5]\n",
            "  [ 6]]\n",
            "\n",
            " [[ 7]\n",
            "  [ 8]\n",
            "  [ 9]]\n",
            "\n",
            " [[10]\n",
            "  [11]\n",
            "  [12]]\n",
            "\n",
            " [[13]\n",
            "  [14]\n",
            "  [15]]\n",
            "\n",
            " [[16]\n",
            "  [17]\n",
            "  [18]]\n",
            "\n",
            " [[19]\n",
            "  [20]\n",
            "  [21]]\n",
            "\n",
            " [[22]\n",
            "  [23]\n",
            "  [24]]\n",
            "\n",
            " [[25]\n",
            "  [26]\n",
            "  [27]]\n",
            "\n",
            " [[28]\n",
            "  [29]\n",
            "  [30]]\n",
            "\n",
            " [[31]\n",
            "  [32]\n",
            "  [33]]\n",
            "\n",
            " [[34]\n",
            "  [35]\n",
            "  [36]]\n",
            "\n",
            " [[37]\n",
            "  [38]\n",
            "  [39]]\n",
            "\n",
            " [[40]\n",
            "  [41]\n",
            "  [42]]\n",
            "\n",
            " [[43]\n",
            "  [44]\n",
            "  [45]]]\n"
          ],
          "name": "stdout"
        }
      ]
    },
    {
      "cell_type": "code",
      "metadata": {
        "id": "r7iSmJv8u_vI",
        "colab_type": "code",
        "outputId": "272139ad-0c4c-4dfd-c4e8-d04598a38bf7",
        "colab": {
          "base_uri": "https://localhost:8080/",
          "height": 799
        }
      },
      "source": [
        "Y = list()\n",
        "for x in X:\n",
        "    print(f\"x : {x}\")\n",
        "    Y.append(x.sum())\n",
        "\n",
        "Y = np.array(Y)\n",
        "print(Y)"
      ],
      "execution_count": 23,
      "outputs": [
        {
          "output_type": "stream",
          "text": [
            "x : [[1]\n",
            " [2]\n",
            " [3]]\n",
            "x : [[4]\n",
            " [5]\n",
            " [6]]\n",
            "x : [[7]\n",
            " [8]\n",
            " [9]]\n",
            "x : [[10]\n",
            " [11]\n",
            " [12]]\n",
            "x : [[13]\n",
            " [14]\n",
            " [15]]\n",
            "x : [[16]\n",
            " [17]\n",
            " [18]]\n",
            "x : [[19]\n",
            " [20]\n",
            " [21]]\n",
            "x : [[22]\n",
            " [23]\n",
            " [24]]\n",
            "x : [[25]\n",
            " [26]\n",
            " [27]]\n",
            "x : [[28]\n",
            " [29]\n",
            " [30]]\n",
            "x : [[31]\n",
            " [32]\n",
            " [33]]\n",
            "x : [[34]\n",
            " [35]\n",
            " [36]]\n",
            "x : [[37]\n",
            " [38]\n",
            " [39]]\n",
            "x : [[40]\n",
            " [41]\n",
            " [42]]\n",
            "x : [[43]\n",
            " [44]\n",
            " [45]]\n",
            "[  6  15  24  33  42  51  60  69  78  87  96 105 114 123 132]\n"
          ],
          "name": "stdout"
        }
      ]
    },
    {
      "cell_type": "code",
      "metadata": {
        "id": "wAWc5EaCuTHH",
        "colab_type": "code",
        "colab": {}
      },
      "source": [
        "X = tf.cast(X,tf.float32)\n",
        "y = tf.cast(Y,tf.float32)"
      ],
      "execution_count": 0,
      "outputs": []
    },
    {
      "cell_type": "code",
      "metadata": {
        "id": "KPcBxlacsmx2",
        "colab_type": "code",
        "outputId": "1f5d0499-8564-4ff1-fac4-e86c54937978",
        "colab": {
          "base_uri": "https://localhost:8080/",
          "height": 238
        }
      },
      "source": [
        "X[:3] , y[:3]"
      ],
      "execution_count": 25,
      "outputs": [
        {
          "output_type": "execute_result",
          "data": {
            "text/plain": [
              "(<tf.Tensor: id=15809, shape=(3, 3, 1), dtype=float32, numpy=\n",
              " array([[[1.],\n",
              "         [2.],\n",
              "         [3.]],\n",
              " \n",
              "        [[4.],\n",
              "         [5.],\n",
              "         [6.]],\n",
              " \n",
              "        [[7.],\n",
              "         [8.],\n",
              "         [9.]]], dtype=float32)>,\n",
              " <tf.Tensor: id=15813, shape=(3,), dtype=float32, numpy=array([ 6., 15., 24.], dtype=float32)>)"
            ]
          },
          "metadata": {
            "tags": []
          },
          "execution_count": 25
        }
      ]
    },
    {
      "cell_type": "code",
      "metadata": {
        "id": "kWJwJ5FDvkYB",
        "colab_type": "code",
        "colab": {}
      },
      "source": [
        "# %load_ext tensorboard\n",
        "# tensorboard = TensorBoard(log_dir=\"logs/{}\".format(time()), histogram_freq=1)\n",
        "# %tensorboard --logdir logs"
      ],
      "execution_count": 0,
      "outputs": []
    },
    {
      "cell_type": "code",
      "metadata": {
        "id": "7gYMsBtZ1Vsm",
        "colab_type": "code",
        "colab": {}
      },
      "source": [
        "# es = EarlyStopping(monitor='val_loss', min_delta=0.1, patience=5, verbose=1, mode='max')"
      ],
      "execution_count": 0,
      "outputs": []
    },
    {
      "cell_type": "code",
      "metadata": {
        "id": "skCCqFNI_Lci",
        "colab_type": "code",
        "outputId": "33799fc3-2e17-4b5e-a7b3-e004dd65cb09",
        "colab": {
          "base_uri": "https://localhost:8080/",
          "height": 289
        }
      },
      "source": [
        "# define model\n",
        "\n",
        "model = Sequential()\n",
        "model.add(Bidirectional(LSTM(1000, activation='relu', input_shape=(3, 1), return_sequences=False)))\n",
        "model.add(Flatten())\n",
        "model.add(Dense(100, activation='relu'))\n",
        "model.add(Dense(1))\n",
        "model.compile(optimizer='adam', loss='mse', metrics=['mse'])\n",
        "# history = model.fit(X, y, epochs=200, validation_split=0.2, batch_size=8, verbose=0)\n",
        "# history = model.fit(X, y, epochs=200, validation_split=0.2, verbose=0)\n",
        "history = model.fit(X, y, epochs=2000, validation_split=0.1, batch_size=3, verbose=0)\n",
        "\n",
        "model.summary()\n",
        "\n"
      ],
      "execution_count": 28,
      "outputs": [
        {
          "output_type": "stream",
          "text": [
            "Model: \"sequential_2\"\n",
            "_________________________________________________________________\n",
            "Layer (type)                 Output Shape              Param #   \n",
            "=================================================================\n",
            "bidirectional_1 (Bidirection multiple                  8016000   \n",
            "_________________________________________________________________\n",
            "flatten_1 (Flatten)          multiple                  0         \n",
            "_________________________________________________________________\n",
            "dense_4 (Dense)              multiple                  200100    \n",
            "_________________________________________________________________\n",
            "dense_5 (Dense)              multiple                  101       \n",
            "=================================================================\n",
            "Total params: 8,216,201\n",
            "Trainable params: 8,216,201\n",
            "Non-trainable params: 0\n",
            "_________________________________________________________________\n"
          ],
          "name": "stdout"
        }
      ]
    },
    {
      "cell_type": "code",
      "metadata": {
        "id": "3_W0z8cjCjvc",
        "colab_type": "code",
        "colab": {}
      },
      "source": [
        "# fit model\n",
        "# model.fit(X, y, epochs=500, validation_split=0.2, verbose=1, callbacks=[tensorboard])\n",
        "# history = model.fit(X, y, epochs=500, validation_split=0.2, verbose=0, callbacks=[])"
      ],
      "execution_count": 0,
      "outputs": []
    },
    {
      "cell_type": "code",
      "metadata": {
        "id": "OSJmm46VyRAO",
        "colab_type": "code",
        "outputId": "5d783304-7d91-44fa-a380-3a4b1d54f774",
        "colab": {
          "base_uri": "https://localhost:8080/",
          "height": 590
        }
      },
      "source": [
        "# list all data in history\n",
        "print(history.history.keys())\n",
        "\n",
        "# summarize history for accuracy\n",
        "plt.plot(history.history['mse'])\n",
        "plt.plot(history.history['val_mse'])\n",
        "plt.title('model accuracy')\n",
        "plt.ylabel('mse')\n",
        "plt.xlabel('epoch')\n",
        "plt.legend(['train', 'test'], loc='upper left')\n",
        "plt.show()\n",
        "\n",
        "# summarize history for loss\n",
        "plt.plot(history.history['loss'])\n",
        "plt.plot(history.history['val_loss'])\n",
        "plt.title('model loss')\n",
        "plt.ylabel('loss')\n",
        "plt.xlabel('epoch')\n",
        "plt.legend(['train', 'test'], loc='upper left')\n",
        "plt.show()"
      ],
      "execution_count": 30,
      "outputs": [
        {
          "output_type": "stream",
          "text": [
            "dict_keys(['loss', 'mse', 'val_loss', 'val_mse'])\n"
          ],
          "name": "stdout"
        },
        {
          "output_type": "display_data",
          "data": {
            "image/png": "[encoded data removed]",
            "text/plain": [
              "<Figure size 432x288 with 1 Axes>"
            ]
          },
          "metadata": {
            "tags": []
          }
        },
        {
          "output_type": "display_data",
          "data": {
            "image/png": "[encoded data removed]",
            "text/plain": [
              "<Figure size 432x288 with 1 Axes>"
            ]
          },
          "metadata": {
            "tags": []
          }
        }
      ]
    },
    {
      "cell_type": "code",
      "metadata": {
        "id": "xbVJUZj5_PMr",
        "colab_type": "code",
        "outputId": "d00a85a2-3b13-4da7-d4c6-b2ff396cfc2a",
        "colab": {
          "base_uri": "https://localhost:8080/",
          "height": 119
        }
      },
      "source": [
        "# demonstrate prediction\n",
        "x_input = array([50, 51, 52])\n",
        "print(\"x_input.shape {}\".format(x_input.shape))\n",
        "\n",
        "x_input = x_input.reshape((1, 3, 1))\n",
        "print(\"x_input.shape2 {}\".format(x_input.shape))\n",
        "\n",
        "x_input = tf.cast(x_input,tf.float32)\n",
        "print(\"x_input {}\".format(x_input))\n",
        "\n",
        "yhat = model.predict(x_input, verbose=0)\n",
        "print(\"yhat : \", yhat)"
      ],
      "execution_count": 31,
      "outputs": [
        {
          "output_type": "stream",
          "text": [
            "x_input.shape (3,)\n",
            "x_input.shape2 (1, 3, 1)\n",
            "x_input [[[50.]\n",
            "  [51.]\n",
            "  [52.]]]\n",
            "yhat :  [[153.41109]]\n"
          ],
          "name": "stdout"
        }
      ]
    },
    {
      "cell_type": "code",
      "metadata": {
        "id": "NeCn9IIe_Csw",
        "colab_type": "code",
        "colab": {}
      },
      "source": [
        ""
      ],
      "execution_count": 0,
      "outputs": []
    },
    {
      "cell_type": "code",
      "metadata": {
        "id": "CmKR2fffYwh5",
        "colab_type": "code",
        "colab": {}
      },
      "source": [
        "\n",
        "# model2 = Sequential()\n",
        "# model2.add(Dense(100, input_shape=(3, 1), activation='relu'))\n",
        "# model2.add(Dense(1))\n",
        "# model2.compile(optimizer='adam', loss='mse', metrics=['mse'])\n",
        "# history = model2.fit(X, y, epochs=200, validation_split=0.1, batch_size=3, verbose=0)\n",
        "# model2.summary()\n"
      ],
      "execution_count": 0,
      "outputs": []
    },
    {
      "cell_type": "code",
      "metadata": {
        "id": "EIZdOb3gY_X5",
        "colab_type": "code",
        "colab": {}
      },
      "source": [
        "# # list all data in history\n",
        "# print(history.history.keys())\n",
        "\n",
        "# # summarize history for accuracy\n",
        "# plt.plot(history.history['mse'])\n",
        "# plt.plot(history.history['val_mse'])\n",
        "# plt.title('model accuracy')\n",
        "# plt.ylabel('mse')\n",
        "# plt.xlabel('epoch')\n",
        "# plt.legend(['train', 'test'], loc='upper left')\n",
        "# plt.show()\n",
        "\n",
        "# # summarize history for loss\n",
        "# plt.plot(history.history['loss'])\n",
        "# plt.plot(history.history['val_loss'])\n",
        "# plt.title('model loss')\n",
        "# plt.ylabel('loss')\n",
        "# plt.xlabel('epoch')\n",
        "# plt.legend(['train', 'test'], loc='upper left')\n",
        "# plt.show()"
      ],
      "execution_count": 0,
      "outputs": []
    },
    {
      "cell_type": "code",
      "metadata": {
        "id": "7jgMQ2KFZC2p",
        "colab_type": "code",
        "colab": {}
      },
      "source": [
        "# # demonstrate prediction\n",
        "# x_input = array([50, 51, 52])\n",
        "# print(\"x_input.shape {}\".format(x_input.shape))\n",
        "\n",
        "# x_input = x_input.reshape((1, 3, 1))\n",
        "# print(\"x_input.shape2 {}\".format(x_input.shape))\n",
        "\n",
        "# x_input = tf.cast(x_input,tf.float32)\n",
        "# print(\"x_input {}\".format(x_input))\n",
        "\n",
        "# yhat = model2.predict(x_input, verbose=0)\n",
        "# print(\"yhat : \", yhat)"
      ],
      "execution_count": 0,
      "outputs": []
    },
    {
      "cell_type": "code",
      "metadata": {
        "id": "ESNzCIPEZG64",
        "colab_type": "code",
        "colab": {}
      },
      "source": [
        ""
      ],
      "execution_count": 0,
      "outputs": []
    }
  ]
}