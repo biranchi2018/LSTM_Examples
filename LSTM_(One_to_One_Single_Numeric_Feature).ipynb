{
  "nbformat": 4,
  "nbformat_minor": 0,
  "metadata": {
    "colab": {
      "name": "LSTM_(One_to_One_Single_Numeric_Feature).ipynb",
      "provenance": [],
      "collapsed_sections": []
    },
    "kernelspec": {
      "name": "python3",
      "display_name": "Python 3"
    },
    "accelerator": "GPU"
  },
  "cells": [
    {
      "cell_type": "code",
      "metadata": {
        "id": "tJvdq7pJ--1s",
        "colab_type": "code",
        "outputId": "d997a352-e8b3-43d7-d71d-a1b51133f0be",
        "colab": {
          "base_uri": "https://localhost:8080/",
          "height": 51
        }
      },
      "source": [
        "# LSTM (One to One Single Numeric Feature)\n",
        "# =========================================\n",
        "\n",
        "%tensorflow_version 2.x\n",
        "\n",
        "import tensorflow as tf\n",
        "tf.__version__"
      ],
      "execution_count": 1,
      "outputs": [
        {
          "output_type": "stream",
          "text": [
            "TensorFlow 2.x selected.\n"
          ],
          "name": "stdout"
        },
        {
          "output_type": "execute_result",
          "data": {
            "text/plain": [
              "'2.0.0'"
            ]
          },
          "metadata": {
            "tags": []
          },
          "execution_count": 1
        }
      ]
    },
    {
      "cell_type": "code",
      "metadata": {
        "id": "XQsAqmcVtHqD",
        "colab_type": "code",
        "colab": {}
      },
      "source": [
        "# univariate lstm example\n",
        "import tensorflow as tf\n",
        "import numpy as np\n",
        "from numpy import array\n",
        "from tensorflow.keras.models import Sequential\n",
        "from tensorflow.keras.layers import LSTM, Bidirectional, Flatten\n",
        "from tensorflow.keras.layers import Dense, Dropout\n",
        "from tensorflow.keras.callbacks import EarlyStopping\n",
        "from tensorflow.python.keras.callbacks import TensorBoard\n",
        "# from tensorflow.keras.regularizers import l2\n",
        "\n",
        "import matplotlib.pyplot as plt\n",
        "from time import time"
      ],
      "execution_count": 0,
      "outputs": []
    },
    {
      "cell_type": "code",
      "metadata": {
        "id": "V8taa71tsZsP",
        "colab_type": "code",
        "outputId": "2b8f693a-e2fa-4e5f-df9e-eb11cca7d39e",
        "colab": {
          "base_uri": "https://localhost:8080/",
          "height": 51
        }
      },
      "source": [
        "# define dataset\n",
        "X = list()\n",
        "Y = list()\n",
        "X = [x+1 for x in range(20)]\n",
        "y = [y * 15 for y in X]\n",
        "\n",
        "print(X)\n",
        "print(y)"
      ],
      "execution_count": 439,
      "outputs": [
        {
          "output_type": "stream",
          "text": [
            "[1, 2, 3, 4, 5, 6, 7, 8, 9, 10, 11, 12, 13, 14, 15, 16, 17, 18, 19, 20]\n",
            "[15, 30, 45, 60, 75, 90, 105, 120, 135, 150, 165, 180, 195, 210, 225, 240, 255, 270, 285, 300]\n"
          ],
          "name": "stdout"
        }
      ]
    },
    {
      "cell_type": "code",
      "metadata": {
        "id": "Xmjzfq6LIo28",
        "colab_type": "code",
        "colab": {}
      },
      "source": [
        "X = np.array(X)\n",
        "y = np.array(y)\n",
        "\n",
        "X = X.astype('float32')\n",
        "y = y.astype('float32')"
      ],
      "execution_count": 0,
      "outputs": []
    },
    {
      "cell_type": "code",
      "metadata": {
        "id": "ESyh5p7XH04O",
        "colab_type": "code",
        "outputId": "b2bd6b31-eb11-4ab6-a22b-1a7258079cd8",
        "colab": {
          "base_uri": "https://localhost:8080/",
          "height": 34
        }
      },
      "source": [
        "X[:3], y[:3]"
      ],
      "execution_count": 441,
      "outputs": [
        {
          "output_type": "execute_result",
          "data": {
            "text/plain": [
              "(array([1., 2., 3.], dtype=float32), array([15., 30., 45.], dtype=float32))"
            ]
          },
          "metadata": {
            "tags": []
          },
          "execution_count": 441
        }
      ]
    },
    {
      "cell_type": "code",
      "metadata": {
        "id": "T0PZ60Kr_JtG",
        "colab_type": "code",
        "outputId": "061ceb29-d341-4eea-a5d8-463977e73b89",
        "colab": {
          "base_uri": "https://localhost:8080/",
          "height": 51
        }
      },
      "source": [
        "\n",
        "print(\"X.shape : {}\".format(X.shape))\n",
        "\n",
        "# reshape from [samples, timesteps] into [samples, timesteps, features]\n",
        "X = X.reshape((X.shape[0], 1, 1))\n",
        "\n",
        "print(\"X.shape2 : {}\".format(X.shape))\n"
      ],
      "execution_count": 442,
      "outputs": [
        {
          "output_type": "stream",
          "text": [
            "X.shape : (20,)\n",
            "X.shape2 : (20, 1, 1)\n"
          ],
          "name": "stdout"
        }
      ]
    },
    {
      "cell_type": "code",
      "metadata": {
        "id": "wAWc5EaCuTHH",
        "colab_type": "code",
        "colab": {}
      },
      "source": [
        "# X = tf.cast(X,tf.float32)\n",
        "# y = tf.cast(y,tf.float32)"
      ],
      "execution_count": 0,
      "outputs": []
    },
    {
      "cell_type": "code",
      "metadata": {
        "id": "kWJwJ5FDvkYB",
        "colab_type": "code",
        "colab": {}
      },
      "source": [
        "# %load_ext tensorboard\n",
        "# tensorboard = TensorBoard(log_dir=\"logs/{}\".format(time()), histogram_freq=1)\n",
        "# %tensorboard --logdir logs"
      ],
      "execution_count": 0,
      "outputs": []
    },
    {
      "cell_type": "code",
      "metadata": {
        "id": "7gYMsBtZ1Vsm",
        "colab_type": "code",
        "colab": {}
      },
      "source": [
        "# es = EarlyStopping(monitor='val_loss', min_delta=0.1, patience=5, verbose=1, mode='max')"
      ],
      "execution_count": 0,
      "outputs": []
    },
    {
      "cell_type": "code",
      "metadata": {
        "id": "skCCqFNI_Lci",
        "colab_type": "code",
        "outputId": "d1e6636b-3168-4a35-8dd6-3b572de08d0b",
        "colab": {
          "base_uri": "https://localhost:8080/",
          "height": 255
        }
      },
      "source": [
        "# define model\n",
        "\n",
        "model = Sequential()\n",
        "model.add(Bidirectional(LSTM(50, activation='relu', input_shape=(1, 1), return_sequences=False)))\n",
        "model.add(Dense(10, activation='relu'))\n",
        "model.add(Dense(1))\n",
        "model.compile(optimizer='adam', loss='mse', metrics=['mse'])\n",
        "# history = model.fit(X, y, epochs=200, validation_split=0.2, batch_size=8, verbose=0)\n",
        "history = model.fit(X, y, epochs=1000, validation_split=0.2, verbose=0)\n",
        "\n",
        "model.summary()"
      ],
      "execution_count": 446,
      "outputs": [
        {
          "output_type": "stream",
          "text": [
            "Model: \"sequential_37\"\n",
            "_________________________________________________________________\n",
            "Layer (type)                 Output Shape              Param #   \n",
            "=================================================================\n",
            "bidirectional_37 (Bidirectio multiple                  20800     \n",
            "_________________________________________________________________\n",
            "dense_76 (Dense)             multiple                  1010      \n",
            "_________________________________________________________________\n",
            "dense_77 (Dense)             multiple                  11        \n",
            "=================================================================\n",
            "Total params: 21,821\n",
            "Trainable params: 21,821\n",
            "Non-trainable params: 0\n",
            "_________________________________________________________________\n"
          ],
          "name": "stdout"
        }
      ]
    },
    {
      "cell_type": "code",
      "metadata": {
        "id": "3_W0z8cjCjvc",
        "colab_type": "code",
        "colab": {}
      },
      "source": [
        "# fit model\n",
        "# model.fit(X, y, epochs=500, validation_split=0.2, verbose=1, callbacks=[tensorboard])\n",
        "# history = model.fit(X, y, epochs=500, validation_split=0.2, verbose=0, callbacks=[])"
      ],
      "execution_count": 0,
      "outputs": []
    },
    {
      "cell_type": "code",
      "metadata": {
        "id": "OSJmm46VyRAO",
        "colab_type": "code",
        "outputId": "010adac4-0ec5-449d-d7f7-8ac62e682d0b",
        "colab": {
          "base_uri": "https://localhost:8080/",
          "height": 590
        }
      },
      "source": [
        "# list all data in history\n",
        "print(history.history.keys())\n",
        "\n",
        "# summarize history for accuracy\n",
        "plt.plot(history.history['mse'])\n",
        "plt.plot(history.history['val_mse'])\n",
        "plt.title('model accuracy')\n",
        "plt.ylabel('mse')\n",
        "plt.xlabel('epoch')\n",
        "plt.legend(['train', 'test'], loc='upper left')\n",
        "plt.show()\n",
        "\n",
        "# summarize history for loss\n",
        "plt.plot(history.history['loss'])\n",
        "plt.plot(history.history['val_loss'])\n",
        "plt.title('model loss')\n",
        "plt.ylabel('loss')\n",
        "plt.xlabel('epoch')\n",
        "plt.legend(['train', 'test'], loc='upper left')\n",
        "plt.show()"
      ],
      "execution_count": 448,
      "outputs": [
        {
          "output_type": "stream",
          "text": [
            "dict_keys(['loss', 'mse', 'val_loss', 'val_mse'])\n"
          ],
          "name": "stdout"
        },
        {
          "output_type": "display_data",
          "data": {
            "image/png": "[encoded data removed]",
            "text/plain": [
              "<Figure size 432x288 with 1 Axes>"
            ]
          },
          "metadata": {
            "tags": []
          }
        },
        {
          "output_type": "display_data",
          "data": {
            "image/png": "[encoded data removed]",
            "text/plain": [
              "<Figure size 432x288 with 1 Axes>"
            ]
          },
          "metadata": {
            "tags": []
          }
        }
      ]
    },
    {
      "cell_type": "code",
      "metadata": {
        "id": "xbVJUZj5_PMr",
        "colab_type": "code",
        "outputId": "716446a1-c82a-4d6e-b6b6-69d2ee27a200",
        "colab": {
          "base_uri": "https://localhost:8080/",
          "height": 85
        }
      },
      "source": [
        "# demonstrate prediction\n",
        "x_input = array([30])\n",
        "print(\"x_input.shape {}\".format(x_input.shape))\n",
        "\n",
        "x_input = x_input.reshape((1, 1, 1))\n",
        "print(\"x_input.shape2 {}\".format(x_input.shape))\n",
        "\n",
        "x_input = tf.cast(x_input,tf.float32)\n",
        "\n",
        "print(\"expected : \", 450)\n",
        "\n",
        "yhat = model.predict(x_input, verbose=0)\n",
        "print(\"yhat : \", yhat)"
      ],
      "execution_count": 449,
      "outputs": [
        {
          "output_type": "stream",
          "text": [
            "x_input.shape (1,)\n",
            "x_input.shape2 (1, 1, 1)\n",
            "expected :  450\n",
            "yhat :  [[447.9531]]\n"
          ],
          "name": "stdout"
        }
      ]
    },
    {
      "cell_type": "code",
      "metadata": {
        "id": "NeCn9IIe_Csw",
        "colab_type": "code",
        "colab": {}
      },
      "source": [
        ""
      ],
      "execution_count": 0,
      "outputs": []
    }
  ]
}