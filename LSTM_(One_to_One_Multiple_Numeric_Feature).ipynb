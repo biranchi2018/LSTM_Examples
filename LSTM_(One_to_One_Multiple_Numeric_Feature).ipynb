{
  "nbformat": 4,
  "nbformat_minor": 0,
  "metadata": {
    "colab": {
      "name": "LSTM_(One_to_One_Multiple_Numeric_Feature).ipynb",
      "provenance": [],
      "collapsed_sections": []
    },
    "kernelspec": {
      "name": "python3",
      "display_name": "Python 3"
    },
    "accelerator": "GPU"
  },
  "cells": [
    {
      "cell_type": "code",
      "metadata": {
        "id": "tJvdq7pJ--1s",
        "colab_type": "code",
        "outputId": "c43bb401-bfce-4d33-fea0-c65380641cca",
        "colab": {
          "base_uri": "https://localhost:8080/",
          "height": 51
        }
      },
      "source": [
        "# LSTM (One to One Multiple Numeric Feature)\n",
        "# ==========================================\n",
        "\n",
        "%tensorflow_version 2.x\n",
        "\n",
        "import tensorflow as tf\n",
        "tf.__version__"
      ],
      "execution_count": 1,
      "outputs": [
        {
          "output_type": "stream",
          "text": [
            "TensorFlow 2.x selected.\n"
          ],
          "name": "stdout"
        },
        {
          "output_type": "execute_result",
          "data": {
            "text/plain": [
              "'2.0.0'"
            ]
          },
          "metadata": {
            "tags": []
          },
          "execution_count": 1
        }
      ]
    },
    {
      "cell_type": "code",
      "metadata": {
        "id": "XQsAqmcVtHqD",
        "colab_type": "code",
        "colab": {}
      },
      "source": [
        "# univariate lstm example\n",
        "import tensorflow as tf\n",
        "import numpy as np\n",
        "from numpy import array\n",
        "from tensorflow.keras.models import Sequential\n",
        "from tensorflow.keras.layers import LSTM, Bidirectional, Flatten, BatchNormalization\n",
        "from tensorflow.keras.layers import Dense, Dropout\n",
        "from tensorflow.keras.callbacks import EarlyStopping\n",
        "from tensorflow.python.keras.callbacks import TensorBoard\n",
        "# from tensorflow.keras.regularizers import l2\n",
        "\n",
        "import matplotlib.pyplot as plt\n",
        "from time import time"
      ],
      "execution_count": 0,
      "outputs": []
    },
    {
      "cell_type": "code",
      "metadata": {
        "id": "V8taa71tsZsP",
        "colab_type": "code",
        "outputId": "d630a251-5029-4f43-a902-69a42088f328",
        "colab": {
          "base_uri": "https://localhost:8080/",
          "height": 88
        }
      },
      "source": [
        "# define dataset\n",
        "X1 = list()\n",
        "X2 = list()\n",
        "X = list()\n",
        "y = list()\n",
        "\n",
        "X1 = [(x+1)*2 for x in range(25)]\n",
        "X2 = [(x+1)*3 for x in range(25)]\n",
        "y = [x1*x2 for x1,x2 in zip(X1,X2)]\n",
        "\n",
        "print(X1)\n",
        "print(X2)\n",
        "print(y)"
      ],
      "execution_count": 351,
      "outputs": [
        {
          "output_type": "stream",
          "text": [
            "[2, 4, 6, 8, 10, 12, 14, 16, 18, 20, 22, 24, 26, 28, 30, 32, 34, 36, 38, 40, 42, 44, 46, 48, 50]\n",
            "[3, 6, 9, 12, 15, 18, 21, 24, 27, 30, 33, 36, 39, 42, 45, 48, 51, 54, 57, 60, 63, 66, 69, 72, 75]\n",
            "[6, 24, 54, 96, 150, 216, 294, 384, 486, 600, 726, 864, 1014, 1176, 1350, 1536, 1734, 1944, 2166, 2400, 2646, 2904, 3174, 3456, 3750]\n"
          ],
          "name": "stdout"
        }
      ]
    },
    {
      "cell_type": "code",
      "metadata": {
        "id": "qJuIKLi6O5j8",
        "colab_type": "code",
        "outputId": "36609421-f849-42ce-9fde-ec1a427167b6",
        "colab": {
          "base_uri": "https://localhost:8080/",
          "height": 442
        }
      },
      "source": [
        "X = np.column_stack((X1, X2))\n",
        "print(X)"
      ],
      "execution_count": 352,
      "outputs": [
        {
          "output_type": "stream",
          "text": [
            "[[ 2  3]\n",
            " [ 4  6]\n",
            " [ 6  9]\n",
            " [ 8 12]\n",
            " [10 15]\n",
            " [12 18]\n",
            " [14 21]\n",
            " [16 24]\n",
            " [18 27]\n",
            " [20 30]\n",
            " [22 33]\n",
            " [24 36]\n",
            " [26 39]\n",
            " [28 42]\n",
            " [30 45]\n",
            " [32 48]\n",
            " [34 51]\n",
            " [36 54]\n",
            " [38 57]\n",
            " [40 60]\n",
            " [42 63]\n",
            " [44 66]\n",
            " [46 69]\n",
            " [48 72]\n",
            " [50 75]]\n"
          ],
          "name": "stdout"
        }
      ]
    },
    {
      "cell_type": "code",
      "metadata": {
        "id": "T0PZ60Kr_JtG",
        "colab_type": "code",
        "outputId": "1fdfd19f-9cf4-43f2-a80b-c45a3ae39b15",
        "colab": {
          "base_uri": "https://localhost:8080/",
          "height": 51
        }
      },
      "source": [
        "\n",
        "print(\"X.shape : {}\".format(X.shape))\n",
        "\n",
        "# reshape from [samples, timesteps] into [samples, timesteps, features]\n",
        "X = np.array(X).reshape(25, 1, 2)\n",
        "\n",
        "print(\"X.shape2 : {}\".format(X.shape))\n"
      ],
      "execution_count": 353,
      "outputs": [
        {
          "output_type": "stream",
          "text": [
            "X.shape : (25, 2)\n",
            "X.shape2 : (25, 1, 2)\n"
          ],
          "name": "stdout"
        }
      ]
    },
    {
      "cell_type": "code",
      "metadata": {
        "id": "aMjevi0_gKar",
        "colab_type": "code",
        "outputId": "6a7a3f97-f0c1-4d6c-e6f4-fc59e05e744f",
        "colab": {
          "base_uri": "https://localhost:8080/",
          "height": 102
        }
      },
      "source": [
        "X[:3] , X.dtype"
      ],
      "execution_count": 354,
      "outputs": [
        {
          "output_type": "execute_result",
          "data": {
            "text/plain": [
              "(array([[[2, 3]],\n",
              " \n",
              "        [[4, 6]],\n",
              " \n",
              "        [[6, 9]]]), dtype('int64'))"
            ]
          },
          "metadata": {
            "tags": []
          },
          "execution_count": 354
        }
      ]
    },
    {
      "cell_type": "code",
      "metadata": {
        "id": "wAWc5EaCuTHH",
        "colab_type": "code",
        "colab": {}
      },
      "source": [
        "X = tf.cast(X,tf.float32)\n",
        "y = tf.cast(y,tf.float32)"
      ],
      "execution_count": 0,
      "outputs": []
    },
    {
      "cell_type": "code",
      "metadata": {
        "id": "KPcBxlacsmx2",
        "colab_type": "code",
        "outputId": "4e5824ea-8c39-419b-fd5a-9864b4970eba",
        "colab": {
          "base_uri": "https://localhost:8080/",
          "height": 136
        }
      },
      "source": [
        "X[:3] , y[:3]"
      ],
      "execution_count": 356,
      "outputs": [
        {
          "output_type": "execute_result",
          "data": {
            "text/plain": [
              "(<tf.Tensor: id=923111, shape=(3, 1, 2), dtype=float32, numpy=\n",
              " array([[[2., 3.]],\n",
              " \n",
              "        [[4., 6.]],\n",
              " \n",
              "        [[6., 9.]]], dtype=float32)>,\n",
              " <tf.Tensor: id=923115, shape=(3,), dtype=float32, numpy=array([ 6., 24., 54.], dtype=float32)>)"
            ]
          },
          "metadata": {
            "tags": []
          },
          "execution_count": 356
        }
      ]
    },
    {
      "cell_type": "code",
      "metadata": {
        "id": "kWJwJ5FDvkYB",
        "colab_type": "code",
        "colab": {}
      },
      "source": [
        "# %load_ext tensorboard\n",
        "# tensorboard = TensorBoard(log_dir=\"logs/{}\".format(time()), histogram_freq=1)\n",
        "# %tensorboard --logdir logs"
      ],
      "execution_count": 0,
      "outputs": []
    },
    {
      "cell_type": "code",
      "metadata": {
        "id": "7gYMsBtZ1Vsm",
        "colab_type": "code",
        "colab": {}
      },
      "source": [
        "# es = EarlyStopping(monitor='val_loss', min_delta=0.1, patience=5, verbose=1, mode='max')"
      ],
      "execution_count": 0,
      "outputs": []
    },
    {
      "cell_type": "code",
      "metadata": {
        "id": "skCCqFNI_Lci",
        "colab_type": "code",
        "outputId": "7dd50ccf-f8cb-40b2-d1c3-2ea168bea720",
        "colab": {
          "base_uri": "https://localhost:8080/",
          "height": 289
        }
      },
      "source": [
        "# define model\n",
        "\n",
        "# model = Sequential()\n",
        "# model.add(Bidirectional(LSTM(1000, activation='relu', input_shape=(1, 2), return_sequences=False)))\n",
        "# model.add(Flatten())\n",
        "# model.add(Dense(200, activation='relu'))\n",
        "# model.add(Dense(100, activation='relu'))\n",
        "# model.add(Dense(10, activation='relu'))\n",
        "# model.add(Dense(1))\n",
        "# model.compile(optimizer='adam', loss='mse', metrics=['mse'])\n",
        "# # history = model.fit(X, y, epochs=200, validation_split=0.2, batch_size=8, verbose=0)\n",
        "# # history = model.fit(X, y, epochs=500, validation_split=0.2, verbose=0)\n",
        "# history = model.fit(X, y, epochs=500, validation_split=0.2, batch_size=4, verbose=0)\n",
        "\n",
        "# model.summary()\n",
        "\n",
        "\n",
        "\n",
        "model = Sequential()\n",
        "model.add(Bidirectional(LSTM(1000, activation='relu', input_shape=(1, 2), return_sequences=False)))\n",
        "model.add(Flatten())\n",
        "model.add(Dense(1000, activation='relu'))\n",
        "model.add(Dense(1))\n",
        "model.compile(optimizer='adam', loss='mse', metrics=['mse'])\n",
        "# history = model.fit(X, y, epochs=200, validation_split=0.2, batch_size=8, verbose=0)\n",
        "# history = model.fit(X, y, epochs=500, validation_split=0.2, verbose=0)\n",
        "history = model.fit(X, y, epochs=2000, validation_split=0.2, verbose=0)\n",
        "\n",
        "model.summary()\n"
      ],
      "execution_count": 359,
      "outputs": [
        {
          "output_type": "stream",
          "text": [
            "Model: \"sequential_27\"\n",
            "_________________________________________________________________\n",
            "Layer (type)                 Output Shape              Param #   \n",
            "=================================================================\n",
            "bidirectional_37 (Bidirectio multiple                  8024000   \n",
            "_________________________________________________________________\n",
            "flatten_20 (Flatten)         multiple                  0         \n",
            "_________________________________________________________________\n",
            "dense_145 (Dense)            multiple                  2001000   \n",
            "_________________________________________________________________\n",
            "dense_146 (Dense)            multiple                  1001      \n",
            "=================================================================\n",
            "Total params: 10,026,001\n",
            "Trainable params: 10,026,001\n",
            "Non-trainable params: 0\n",
            "_________________________________________________________________\n"
          ],
          "name": "stdout"
        }
      ]
    },
    {
      "cell_type": "code",
      "metadata": {
        "id": "3_W0z8cjCjvc",
        "colab_type": "code",
        "colab": {}
      },
      "source": [
        "# fit model\n",
        "# model.fit(X, y, epochs=500, validation_split=0.2, verbose=1, callbacks=[tensorboard])\n",
        "# history = model.fit(X, y, epochs=500, validation_split=0.2, verbose=0, callbacks=[])"
      ],
      "execution_count": 0,
      "outputs": []
    },
    {
      "cell_type": "code",
      "metadata": {
        "id": "OSJmm46VyRAO",
        "colab_type": "code",
        "outputId": "148d8a1f-143d-437b-ed43-228a6b9098c4",
        "colab": {
          "base_uri": "https://localhost:8080/",
          "height": 590
        }
      },
      "source": [
        "# list all data in history\n",
        "print(history.history.keys())\n",
        "\n",
        "# summarize history for accuracy\n",
        "plt.plot(history.history['mse'])\n",
        "plt.plot(history.history['val_mse'])\n",
        "plt.title('model accuracy')\n",
        "plt.ylabel('mse')\n",
        "plt.xlabel('epoch')\n",
        "plt.legend(['train', 'test'], loc='upper left')\n",
        "plt.show()\n",
        "\n",
        "# summarize history for loss\n",
        "plt.plot(history.history['loss'])\n",
        "plt.plot(history.history['val_loss'])\n",
        "plt.title('model loss')\n",
        "plt.ylabel('loss')\n",
        "plt.xlabel('epoch')\n",
        "plt.legend(['train', 'test'], loc='upper left')\n",
        "plt.show()"
      ],
      "execution_count": 361,
      "outputs": [
        {
          "output_type": "stream",
          "text": [
            "dict_keys(['loss', 'mse', 'val_loss', 'val_mse'])\n"
          ],
          "name": "stdout"
        },
        {
          "output_type": "display_data",
          "data": {
            "image/png": "[encoded data removed]",
            "text/plain": [
              "<Figure size 432x288 with 1 Axes>"
            ]
          },
          "metadata": {
            "tags": []
          }
        },
        {
          "output_type": "display_data",
          "data": {
            "image/png": "[encoded data removed]",
            "text/plain": [
              "<Figure size 432x288 with 1 Axes>"
            ]
          },
          "metadata": {
            "tags": []
          }
        }
      ]
    },
    {
      "cell_type": "code",
      "metadata": {
        "id": "xbVJUZj5_PMr",
        "colab_type": "code",
        "outputId": "d1d5aa33-8706-4337-e3fb-5c58668c8179",
        "colab": {
          "base_uri": "https://localhost:8080/",
          "height": 85
        }
      },
      "source": [
        "# demonstrate prediction\n",
        "x_input = array([55, 80])\n",
        "print(\"x_input.shape {}\".format(x_input.shape))\n",
        "\n",
        "x_input = x_input.reshape((1, 1, 2))\n",
        "print(\"x_input.shape2 {}\".format(x_input.shape))\n",
        "\n",
        "x_input = tf.cast(x_input,tf.float32)\n",
        "\n",
        "print(\"expected : \", 4400)\n",
        "\n",
        "yhat = model.predict(x_input, verbose=0)\n",
        "print(\"yhat : \", yhat)"
      ],
      "execution_count": 362,
      "outputs": [
        {
          "output_type": "stream",
          "text": [
            "x_input.shape (2,)\n",
            "x_input.shape2 (1, 1, 2)\n",
            "expected :  4400\n",
            "yhat :  [[4163.6646]]\n"
          ],
          "name": "stdout"
        }
      ]
    },
    {
      "cell_type": "code",
      "metadata": {
        "id": "NeCn9IIe_Csw",
        "colab_type": "code",
        "colab": {}
      },
      "source": [
        ""
      ],
      "execution_count": 0,
      "outputs": []
    }
  ]
}